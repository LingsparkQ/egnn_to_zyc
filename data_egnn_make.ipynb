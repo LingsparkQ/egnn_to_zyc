{
 "cells": [
  {
   "cell_type": "code",
   "execution_count": 31,
   "metadata": {},
   "outputs": [
    {
     "name": "stdout",
     "output_type": "stream",
     "text": [
      "['R', 'N', 'Z', 'id', 'A', 'B', 'C', 'mu', 'alpha', 'homo', 'lumo', 'gap', 'r2', 'zpve', 'U0', 'U', 'H', 'G', 'Cv', 'meta']\n"
     ]
    },
    {
     "name": "stderr",
     "output_type": "stream",
     "text": [
      "100%|██████████| 130829/130829 [02:41<00:00, 812.00it/s]\n"
     ]
    },
    {
     "name": "stdout",
     "output_type": "stream",
     "text": [
      "130830\n"
     ]
    }
   ],
   "source": [
    "import torch\n",
    "import pickle\n",
    "import os.path as osp\n",
    "from qm9 import utils as qm9_utils\n",
    "\n",
    "import torch\n",
    "from torch.utils.data import DataLoader\n",
    "from torch.utils.data import Dataset\n",
    "from tqdm import tqdm\n",
    "import numpy as np\n",
    "names = locals()\n",
    "# dir = \"/work/01/gq54/p23002/guyuhan/wisteria_guyuhan/data_preprocess/805_Alchemy9_for_schnet.npz\"\n",
    "dir = \"/work/01/gq54/p23002/guyuhan/wisteria_guyuhan/dimenet_used/data/qm9_eV.npz\"\n",
    "data=np.load(dir)\n",
    "print(data.files)\n",
    "prop = ['mu', 'alpha', 'homo', 'lumo', 'gap', 'r2',\n",
    "        'zpve', 'U0', 'U','H', 'G', 'Cv' ]\n",
    "split = [data['N'][0]]\n",
    "for i in tqdm(range(len(data['N'])-2)):\n",
    "        split.append(split[-1] + data['N'][i + 1])\n",
    "print(len(split))\n",
    "num_atoms_split = data['N']\n",
    "max = num_atoms_split.max()\n",
    "charges_split = np.split(data['Z'],split)\n",
    "charge_scale = data['Z'].max()\n",
    "positions_split = np.split(data['R'],split)\n",
    "index_split = data['id']\n",
    "for _ in prop:\n",
    "        names[_ + '_split'] = data[_]\n",
    "\n",
    "dict_keys1 =  ['index','num_atoms', \n",
    "        'mu', 'alpha', 'homo', 'lumo', \n",
    "        'gap', 'r2', 'zpve', 'U0', \n",
    "        'U', 'H', 'G', 'Cv',]\n",
    "dict_keys2 = ['charges', 'positions',]\n",
    "\n",
    "dict_keys3 = ['one_hot', 'atom_mask', 'edge_mask']\n",
    "\n",
    "all_species = torch.tensor(data['Z']).unique(sorted=True)\n",
    "if all_species[0] == 0:\n",
    "        all_species = all_species[1:]\n",
    "included_species = all_species\n",
    "included_species.shape\n",
    "n = 100"
   ]
  },
  {
   "cell_type": "code",
   "execution_count": 32,
   "metadata": {},
   "outputs": [],
   "source": [
    "for i in range(n):\n",
    "    dict_i = {}\n",
    "    # dict_i['charges'] = torch.tensor(_)\n",
    "    _ = np.pad(charges_split[i],((0), (max - charges_split[i].size)),'constant')\n",
    "    dict_i['charges'] = torch.tensor(_)\n",
    "    if i == 0:\n",
    "        all_charges = dict_i['charges'].unsqueeze(0)\n",
    "    else:\n",
    "        all_charges = torch.cat((all_charges,dict_i['charges'].unsqueeze(0)),0)\n"
   ]
  },
  {
   "cell_type": "code",
   "execution_count": 33,
   "metadata": {},
   "outputs": [
    {
     "name": "stdout",
     "output_type": "stream",
     "text": [
      "torch.Size([100, 29, 5])\n"
     ]
    }
   ],
   "source": [
    "all_one_hot = all_charges.unsqueeze(-1) == included_species.unsqueeze(0).unsqueeze(0)\n",
    "print(all_one_hot.shape)\n",
    "dataset_alchemy = []\n",
    "\n",
    "for i in range(n):\n",
    "    dict_i = {}\n",
    "    for _ in dict_keys1:\n",
    "        dict_i[_] = torch.tensor(names[_ + '_split'][i])\n",
    "    _ = np.pad(charges_split[i],((0), (max - charges_split[i].size)),'constant')\n",
    "    dict_i['charges'] = torch.tensor(_)\n",
    "    if i == 0:\n",
    "        all_charges = dict_i['charges'].unsqueeze(0)\n",
    "    else:\n",
    "        all_charges = torch.cat((all_charges,dict_i['charges'].unsqueeze(0)),0)\n",
    "    _ = np.pad(positions_split[i],((0,max - positions_split[i].shape[0]), (0,0)),'constant')\n",
    "    dict_i['positions'] = torch.tensor(_)\n",
    "    # dict_i['one_hot'] = dict_i['charges'].unsqueeze(-1) == included_species.unsqueeze(0).unsqueeze(0)\n",
    "    dict_i['one_hot'] = all_one_hot[i]\n",
    "    dataset_alchemy.append(dict_i)"
   ]
  },
  {
   "cell_type": "code",
   "execution_count": 34,
   "metadata": {},
   "outputs": [],
   "source": [
    "class al_dataset(Dataset):\n",
    "    def  __init__(self,name):\n",
    "        self.set = name\n",
    "        \n",
    "    def __len__(self):\n",
    "        return len(dataset_alchemy)\n",
    "    \n",
    "    def __getitem__(self, idx):\n",
    "        return self.set[idx]\n",
    "\n",
    "al9_set = al_dataset(dataset_alchemy)"
   ]
  },
  {
   "cell_type": "code",
   "execution_count": 77,
   "metadata": {},
   "outputs": [],
   "source": [
    "from qm9.data.collate import collate_fn\n",
    "dataloaders = {'altest': DataLoader(al9_set,\n",
    "                                     batch_size=96,\n",
    "                                     shuffle=False if (split == 'train') else False,\n",
    "                                     num_workers=2,\n",
    "                                     collate_fn=collate_fn)\n",
    "                        }"
   ]
  },
  {
   "cell_type": "code",
   "execution_count": 80,
   "metadata": {},
   "outputs": [
    {
     "data": {
      "text/plain": [
       "<All keys matched successfully>"
      ]
     },
     "execution_count": 80,
     "metadata": {},
     "output_type": "execute_result"
    }
   ],
   "source": [
    "from qm9.models import EGNN\n",
    "best_model = torch.load('/work/01/gq54/p23002/egnn_homo/exp_1_homo/best_model',map_location='cpu')\n",
    "device = 'cpu'\n",
    "dtype = torch.float32\n",
    "model = EGNN(in_node_nf=15, in_edge_nf=0, hidden_nf=128, device=device, n_layers=7, coords_weight=1.0,\n",
    "             attention=1, node_attr=0)\n",
    "model.load_state_dict(best_model['model_state_dict'])"
   ]
  },
  {
   "cell_type": "code",
   "execution_count": 110,
   "metadata": {},
   "outputs": [
    {
     "ename": "KeyError",
     "evalue": "'altest'",
     "output_type": "error",
     "traceback": [
      "\u001b[0;31m---------------------------------------------------------------------------\u001b[0m",
      "\u001b[0;31mKeyError\u001b[0m                                  Traceback (most recent call last)",
      "\u001b[0;32m/tmp/ipykernel_402629/338904022.py\u001b[0m in \u001b[0;36m<module>\u001b[0;34m\u001b[0m\n\u001b[1;32m      4\u001b[0m \u001b[0;31m# dataloaders, charge_scale = dataset.retrieve_dataloaders(96,2)\u001b[0m\u001b[0;34m\u001b[0m\u001b[0;34m\u001b[0m\u001b[0;34m\u001b[0m\u001b[0m\n\u001b[1;32m      5\u001b[0m \u001b[0;34m\u001b[0m\u001b[0m\n\u001b[0;32m----> 6\u001b[0;31m \u001b[0;32mfor\u001b[0m \u001b[0mi\u001b[0m\u001b[0;34m,\u001b[0m \u001b[0mdata\u001b[0m \u001b[0;32min\u001b[0m \u001b[0menumerate\u001b[0m\u001b[0;34m(\u001b[0m\u001b[0mdataloaders\u001b[0m\u001b[0;34m[\u001b[0m\u001b[0;34m'altest'\u001b[0m\u001b[0;34m]\u001b[0m\u001b[0;34m)\u001b[0m\u001b[0;34m:\u001b[0m\u001b[0;34m\u001b[0m\u001b[0;34m\u001b[0m\u001b[0m\n\u001b[0m\u001b[1;32m      7\u001b[0m         \u001b[0mmodel\u001b[0m\u001b[0;34m.\u001b[0m\u001b[0meval\u001b[0m\u001b[0;34m(\u001b[0m\u001b[0;34m)\u001b[0m\u001b[0;34m\u001b[0m\u001b[0;34m\u001b[0m\u001b[0m\n\u001b[1;32m      8\u001b[0m         \u001b[0mbatch_size\u001b[0m\u001b[0;34m,\u001b[0m \u001b[0mn_nodes\u001b[0m\u001b[0;34m,\u001b[0m \u001b[0m_\u001b[0m \u001b[0;34m=\u001b[0m \u001b[0mdata\u001b[0m\u001b[0;34m[\u001b[0m\u001b[0;34m'positions'\u001b[0m\u001b[0;34m]\u001b[0m\u001b[0;34m.\u001b[0m\u001b[0msize\u001b[0m\u001b[0;34m(\u001b[0m\u001b[0;34m)\u001b[0m\u001b[0;34m\u001b[0m\u001b[0;34m\u001b[0m\u001b[0m\n",
      "\u001b[0;31mKeyError\u001b[0m: 'altest'"
     ]
    }
   ],
   "source": [
    "pred_all = [] \n",
    "from qm9 import dataset\n",
    "\n",
    "# dataloaders, charge_scale = dataset.retrieve_dataloaders(96,2)\n",
    "\n",
    "for i, data in enumerate(dataloaders['altest']):\n",
    "        model.eval()\n",
    "        batch_size, n_nodes, _ = data['positions'].size()\n",
    "        atom_positions = data['positions'].view(batch_size * n_nodes, -1).to(device, dtype)\n",
    "        atom_mask = data['atom_mask'].view(batch_size * n_nodes, -1).to(device, dtype)\n",
    "        edge_mask = data['edge_mask'].to(device, dtype)\n",
    "        one_hot = data['one_hot'].to(device, dtype)\n",
    "        charges = data['charges'].to(device, dtype)\n",
    "        nodes = qm9_utils.preprocess_input(one_hot, charges, 2, charge_scale, device)\n",
    "        nodes = nodes.view(batch_size * n_nodes, -1)\n",
    "        # nodes = torch.cat([one_hot, charges], dim=1)\n",
    "        edges = qm9_utils.get_adj_matrix(n_nodes, batch_size, device)\n",
    "        # label = data[args.property].to(device, dtype)\n",
    "        pred = model(h0=nodes, x=atom_positions, edges=edges, edge_attr=None, node_mask=atom_mask, edge_mask=edge_mask,\n",
    "                     n_nodes=n_nodes)\n",
    "        break\n",
    "        # pred_all.append(pred)\n"
   ]
  },
  {
   "cell_type": "code",
   "execution_count": 83,
   "metadata": {},
   "outputs": [],
   "source": [
    "dir = \"/work/01/gq54/p23002/guyuhan/wisteria_guyuhan/data_preprocess/805_Alchemy9_for_schnet.npz\"\n",
    "# dir = \"/work/01/gq54/p23002/guyuhan/wisteria_guyuhan/dimenet_used/data/qm9_eV.npz\"\n",
    "data=np.load(dir)\n",
    "a = torch.tensor(data['lumo'][0:96])"
   ]
  },
  {
   "cell_type": "code",
   "execution_count": 26,
   "metadata": {},
   "outputs": [
    {
     "data": {
      "text/plain": [
       "0.02754731423664206"
      ]
     },
     "execution_count": 26,
     "metadata": {},
     "output_type": "execute_result"
    }
   ],
   "source": [
    "best_model['best_val']"
   ]
  },
  {
   "cell_type": "code",
   "execution_count": 93,
   "metadata": {},
   "outputs": [],
   "source": [
    "pred = pred.detach().numpy()"
   ]
  },
  {
   "cell_type": "code",
   "execution_count": 91,
   "metadata": {},
   "outputs": [],
   "source": [
    "homo = np.array(data['homo'])"
   ]
  },
  {
   "cell_type": "code",
   "execution_count": 94,
   "metadata": {},
   "outputs": [
    {
     "data": {
      "text/plain": [
       "array([[1.        , 0.99636051],\n",
       "       [0.99636051, 1.        ]])"
      ]
     },
     "execution_count": 94,
     "metadata": {},
     "output_type": "execute_result"
    }
   ],
   "source": [
    "np.corrcoef(pred,homo)"
   ]
  },
  {
   "cell_type": "code",
   "execution_count": 101,
   "metadata": {},
   "outputs": [
    {
     "name": "stdout",
     "output_type": "stream",
     "text": [
      "datasets type: <class 'dict'>\n",
      "datasets train: <class 'qm9.data.dataset.ProcessedDataset'>\n",
      "data type in datasets train: <class 'dict'>\n",
      "dict_keys(['num_atoms', 'charges', 'positions', 'index', 'A', 'B', 'C', 'mu', 'alpha', 'homo', 'lumo', 'gap', 'r2', 'zpve', 'U0', 'U', 'H', 'G', 'Cv', 'omega1', 'zpve_thermo', 'U0_thermo', 'U_thermo', 'H_thermo', 'G_thermo', 'Cv_thermo', 'one_hot'])\n",
      "num_atoms torch.Size([])\n",
      "charges torch.Size([29])\n",
      "positions torch.Size([29, 3])\n",
      "index torch.Size([])\n",
      "A torch.Size([])\n",
      "B torch.Size([])\n",
      "C torch.Size([])\n",
      "mu torch.Size([])\n",
      "alpha torch.Size([])\n",
      "homo torch.Size([])\n",
      "lumo torch.Size([])\n",
      "gap torch.Size([])\n",
      "r2 torch.Size([])\n",
      "zpve torch.Size([])\n",
      "U0 torch.Size([])\n",
      "U torch.Size([])\n",
      "H torch.Size([])\n",
      "G torch.Size([])\n",
      "Cv torch.Size([])\n",
      "omega1 torch.Size([])\n",
      "zpve_thermo torch.Size([])\n",
      "U0_thermo torch.Size([])\n",
      "U_thermo torch.Size([])\n",
      "H_thermo torch.Size([])\n",
      "G_thermo torch.Size([])\n",
      "Cv_thermo torch.Size([])\n",
      "one_hot torch.Size([29, 5])\n"
     ]
    }
   ],
   "source": [
    "dataloaders, charge_scale = dataset.retrieve_dataloaders(96, 2)\n",
    "meann, mad = qm9_utils.compute_mean_mad(dataloaders, 'homo')"
   ]
  },
  {
   "cell_type": "code",
   "execution_count": 106,
   "metadata": {},
   "outputs": [
    {
     "data": {
      "text/plain": [
       "0.01488416708213051"
      ]
     },
     "execution_count": 106,
     "metadata": {},
     "output_type": "execute_result"
    }
   ],
   "source": [
    "abs(pred*0.4405 -6.5369 - homo).mean()"
   ]
  },
  {
   "cell_type": "code",
   "execution_count": 105,
   "metadata": {},
   "outputs": [
    {
     "data": {
      "text/plain": [
       "tensor(0.4405)"
      ]
     },
     "execution_count": 105,
     "metadata": {},
     "output_type": "execute_result"
    }
   ],
   "source": [
    "mad"
   ]
  },
  {
   "cell_type": "code",
   "execution_count": 109,
   "metadata": {},
   "outputs": [
    {
     "ename": "TypeError",
     "evalue": "'numpy.int64' object is not callable",
     "output_type": "error",
     "traceback": [
      "\u001b[0;31m---------------------------------------------------------------------------\u001b[0m",
      "\u001b[0;31mTypeError\u001b[0m                                 Traceback (most recent call last)",
      "\u001b[0;32m/tmp/ipykernel_402629/4152546382.py\u001b[0m in \u001b[0;36m<module>\u001b[0;34m\u001b[0m\n\u001b[1;32m      4\u001b[0m \u001b[0;34m\u001b[0m\u001b[0m\n\u001b[1;32m      5\u001b[0m \u001b[0;31m# Add the y=x line\u001b[0m\u001b[0;34m\u001b[0m\u001b[0;34m\u001b[0m\u001b[0;34m\u001b[0m\u001b[0m\n\u001b[0;32m----> 6\u001b[0;31m \u001b[0mlim\u001b[0m \u001b[0;34m=\u001b[0m \u001b[0;34m[\u001b[0m\u001b[0mmin\u001b[0m\u001b[0;34m(\u001b[0m\u001b[0max\u001b[0m\u001b[0;34m.\u001b[0m\u001b[0mget_xlim\u001b[0m\u001b[0;34m(\u001b[0m\u001b[0;34m)\u001b[0m \u001b[0;34m+\u001b[0m \u001b[0max\u001b[0m\u001b[0;34m.\u001b[0m\u001b[0mget_ylim\u001b[0m\u001b[0;34m(\u001b[0m\u001b[0;34m)\u001b[0m\u001b[0;34m)\u001b[0m\u001b[0;34m,\u001b[0m \u001b[0mmax\u001b[0m\u001b[0;34m(\u001b[0m\u001b[0max\u001b[0m\u001b[0;34m.\u001b[0m\u001b[0mget_xlim\u001b[0m\u001b[0;34m(\u001b[0m\u001b[0;34m)\u001b[0m \u001b[0;34m+\u001b[0m \u001b[0max\u001b[0m\u001b[0;34m.\u001b[0m\u001b[0mget_ylim\u001b[0m\u001b[0;34m(\u001b[0m\u001b[0;34m)\u001b[0m\u001b[0;34m)\u001b[0m\u001b[0;34m]\u001b[0m\u001b[0;34m\u001b[0m\u001b[0;34m\u001b[0m\u001b[0m\n\u001b[0m\u001b[1;32m      7\u001b[0m \u001b[0max\u001b[0m\u001b[0;34m.\u001b[0m\u001b[0mset_xlim\u001b[0m\u001b[0;34m(\u001b[0m\u001b[0mlim\u001b[0m\u001b[0;34m)\u001b[0m\u001b[0;34m\u001b[0m\u001b[0;34m\u001b[0m\u001b[0m\n\u001b[1;32m      8\u001b[0m \u001b[0max\u001b[0m\u001b[0;34m.\u001b[0m\u001b[0mset_ylim\u001b[0m\u001b[0;34m(\u001b[0m\u001b[0mlim\u001b[0m\u001b[0;34m)\u001b[0m\u001b[0;34m\u001b[0m\u001b[0;34m\u001b[0m\u001b[0m\n",
      "\u001b[0;31mTypeError\u001b[0m: 'numpy.int64' object is not callable"
     ]
    },
    {
     "data": {
      "image/png": "[encoded data removed]",
      "text/plain": [
       "<Figure size 432x288 with 1 Axes>"
      ]
     },
     "metadata": {
      "needs_background": "light"
     },
     "output_type": "display_data"
    }
   ],
   "source": [
    "from matplotlib import pyplot as plt\n",
    "fig, ax = plt.subplots()\n",
    "ax.scatter(pred*0.4405 -6.5369, homo)\n",
    "\n",
    "# Add the y=x line\n",
    "lim = [min(ax.get_xlim() + ax.get_ylim()), max(ax.get_xlim() + ax.get_ylim())]\n",
    "ax.set_xlim(lim)\n",
    "ax.set_ylim(lim)\n",
    "ax.plot(lim, lim, 'k--')\n",
    "\n",
    "# ax.set_xlabel(result_name + ' Label')\n",
    "# ax.set_ylabel('dimenetpp Pred')\n",
    "# name=result_name.split('/')[-1].split('.')[0]\n",
    "# ax.set_title(name)\n",
    "fig.set_size_inches(5 * 4,5)\n",
    "fig.tight_layout()"
   ]
  },
  {
   "cell_type": "code",
   "execution_count": null,
   "metadata": {},
   "outputs": [],
   "source": []
  }
 ],
 "metadata": {
  "kernelspec": {
   "display_name": "Python 3.7.4 ('megnetclone': conda)",
   "language": "python",
   "name": "python3"
  },
  "language_info": {
   "codemirror_mode": {
    "name": "ipython",
    "version": 3
   },
   "file_extension": ".py",
   "mimetype": "text/x-python",
   "name": "python",
   "nbconvert_exporter": "python",
   "pygments_lexer": "ipython3",
   "version": "3.7.4"
  },
  "orig_nbformat": 4,
  "vscode": {
   "interpreter": {
    "hash": "1781827b474c1d75ea45b22315146645a4985aa1c6f5eb176766b21950282489"
   }
  }
 },
 "nbformat": 4,
 "nbformat_minor": 2
}
